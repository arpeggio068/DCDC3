{
 "cells": [
  {
   "cell_type": "markdown",
   "metadata": {},
   "source": [
    "# Library:\n",
    "# python version 3.8.5\n",
    "# pandas version 0.25.3\n",
    "# mysql-connector-python version 8.0.33\n",
    "# ipython-sql version 0.4.1\n",
    "# sqlalchemy version 2.0.13\n",
    "# sqlite version 3.33.0\n",
    "# xlsxwriter version 1.3.7"
   ]
  },
  {
   "cell_type": "code",
   "execution_count": null,
   "metadata": {},
   "outputs": [],
   "source": [
    "!pip install mysql-connector-python\n",
    "!pip install ipython-sql"
   ]
  },
  {
   "cell_type": "code",
   "execution_count": null,
   "metadata": {},
   "outputs": [],
   "source": [
    "import mysql.connector as connection\n",
    "import pandas as pd\n",
    "\n",
    "def sql_query(query):\n",
    "    try:\n",
    "        mydb = connection.connect(host=\"ckhos.go.th\", database = 'dhdc',user=\"your_username\", password=\"your_password\",use_pure=True)       \n",
    "        result_dataFrame = pd.read_sql(query,mydb)\n",
    "        mydb.close() #close the connection\n",
    "        return result_dataFrame\n",
    "    except Exception as e:\n",
    "        mydb.close()\n",
    "        print(str(e))"
   ]
  },
  {
   "cell_type": "code",
   "execution_count": null,
   "metadata": {},
   "outputs": [],
   "source": [
    "coc_hdc = pd.read_csv('coc_25660508_all.csv',encoding=\"utf-8\", dtype = str).query('RESULT == \"1B1281\" or RESULT == \"1B1282\"')\n",
    "coc_hdc"
   ]
  },
  {
   "cell_type": "code",
   "execution_count": null,
   "metadata": {},
   "outputs": [],
   "source": [
    "#print(coc_hdc.dtypes)"
   ]
  },
  {
   "cell_type": "code",
   "execution_count": null,
   "metadata": {},
   "outputs": [],
   "source": [
    "coc_hdc['hospid'] = coc_hdc['รหัสสถานบริการHOSCODE'] + coc_hdc['ทะเบียนบุคคลPID']#.astype(str) \n",
    "coc_hdc['name'] = coc_hdc['ชื่อNAME'] +' '+ coc_hdc['นามสกุลLNAME']\n",
    "coc_hdc_left = coc_hdc.loc[:, ['รหัสสถานบริการHOSCODE','ชื่อสถานบริการHOSNAME','name', 'hospid','RESULT']]\n",
    "coc_hdc_left"
   ]
  },
  {
   "cell_type": "code",
   "execution_count": null,
   "metadata": {},
   "outputs": [],
   "source": [
    "dental_cid = sql_query( \"\"\" \n",
    "SELECT\n",
    "DT.hospid,\n",
    "DT.CID,\n",
    "DT.flag_dental \n",
    "\n",
    "FROM\n",
    "(\n",
    "SELECT DISTINCT   \n",
    "    CONCAT(person.HOSPCODE, person.PID) AS hospid,\n",
    "    person.CID,\n",
    "    case when dental.DATE_SERV = max(dental.DATE_SERV) OVER (PARTITION BY dental.CID) \n",
    "             then '1' else '0'\n",
    "    end AS flag_dental \n",
    "    \n",
    "    from dental    \n",
    "    \n",
    "    INNER JOIN provider ON provider.provider = dental.provider AND provider.HOSPCODE = dental.HOSPCODE\n",
    "    INNER JOIN person ON person.cid = dental.cid \n",
    "    \n",
    "    WHERE \n",
    "    \n",
    "    provider.providertype IN ('02','06')\n",
    "    AND person.TYPEAREA IN ('1', '3')\n",
    "    AND dental.PTEETH BETWEEN 0 AND 32\n",
    "    AND DATE_FORMAT(FROM_DAYS(DATEDIFF('2022-10-01',person.BIRTH)), '%Y')+0 BETWEEN 60 AND 199\n",
    "    AND IFNULL(dental.PERMANENT_PERMANENT,0) + IFNULL(dental.PERMANENT_PROSTHESIS,0)\n",
    "    + IFNULL(dental.PROSTHESIS_PROSTHESIS,0) BETWEEN 0 AND 10\n",
    "    AND (IFNULL(dental.pteeth,0) +IFNULL(dental.PEXTRACT,0)) > 0\n",
    "    AND dental.DATE_SERV BETWEEN '2022-10-01' AND '2023-09-30'\n",
    "    AND LENGTH(dental.CID)=13 \n",
    "    \n",
    "  )  AS DT\n",
    "\n",
    "where\n",
    "DT.flag_dental = '1'\n",
    "\"\"\" )\n",
    "\n",
    "dental_cid"
   ]
  },
  {
   "cell_type": "code",
   "execution_count": null,
   "metadata": {},
   "outputs": [],
   "source": [
    "tb_merge = pd.merge(coc_hdc_left, dental_cid, on=['hospid'], how='left')\n",
    "tb_merge"
   ]
  },
  {
   "cell_type": "code",
   "execution_count": null,
   "metadata": {},
   "outputs": [],
   "source": [
    "tb_merge.style.hide(axis='index')"
   ]
  },
  {
   "cell_type": "code",
   "execution_count": null,
   "metadata": {},
   "outputs": [],
   "source": [
    "from sqlalchemy import create_engine\n",
    "engine = create_engine('sqlite://', echo = False)"
   ]
  },
  {
   "cell_type": "code",
   "execution_count": null,
   "metadata": {},
   "outputs": [],
   "source": [
    "tb_merge.to_sql('COC_Data',\n",
    "                       con = engine,\n",
    "                       schema=None,\n",
    "                       if_exists = 'append')"
   ]
  },
  {
   "cell_type": "code",
   "execution_count": null,
   "metadata": {},
   "outputs": [],
   "source": [
    "coc2 = pd.read_sql('''\n",
    "SELECT \n",
    "Q1.hospcode,\n",
    "Q1.cup,\n",
    "Q1.target,\n",
    "Q1.result,\n",
    "IFNULL(ROUND(((Q1.result/1.0)/Q1.target)*100, 2), 0.00) AS percent,\n",
    "Q1.target1,\n",
    "Q1.result1,\n",
    "IFNULL(ROUND(((Q1.result1/1.0)/Q1.target1)*100, 2), 0.00) AS percent1,\n",
    "Q1.target2,\n",
    "Q1.result2,\n",
    "IFNULL(ROUND(((Q1.result2/1.0)/Q1.target2)*100, 2), 0.00) AS percent2\n",
    " \n",
    "FROM\n",
    "(\n",
    "SELECT DISTINCT\n",
    "รหัสสถานบริการHOSCODE AS hospcode,\n",
    "ชื่อสถานบริการHOSNAME AS cup,\n",
    "COUNT(DISTINCT hospid) AS target,\n",
    "COUNT(flag_dental) AS result,\n",
    "COUNT(DISTINCT IIF(RESULT IN('1B1281') ,hospid,NULL)) AS target1,\n",
    "COUNT(DISTINCT IIF(flag_dental IS NOT NULL AND RESULT IN('1B1281') ,hospid,NULL)) AS result1,\n",
    "COUNT(DISTINCT IIF(RESULT IN('1B1282') ,hospid,NULL)) AS target2,\n",
    "COUNT(DISTINCT IIF(flag_dental IS NOT NULL AND RESULT IN('1B1282') ,hospid,NULL)) AS result2\n",
    "\n",
    "FROM COC_Data\n",
    "\n",
    "GROUP BY hospcode, cup\n",
    ") AS Q1\n",
    "''', engine)\n",
    "\n",
    "sum_target = coc2.target.sum()\n",
    "sum_result = coc2.result.sum()\n",
    "total_percent = ((sum_result/sum_target)*100).round(2)\n",
    "sum_target1 = coc2.target1.sum()\n",
    "sum_result1 = coc2.result1.sum()\n",
    "total_percent1 = ((sum_result1/sum_target1)*100).round(2)\n",
    "sum_target2 = coc2.target2.sum()\n",
    "sum_result2 = coc2.result2.sum()\n",
    "total_percent2 = ((sum_result2/sum_target2)*100).round(2)\n",
    "coc2.loc[len(coc2.index)] = ['All', 'Total', sum_target, sum_result, total_percent, sum_target1, sum_result1, total_percent1,\n",
    "                                         sum_target2, sum_result2, total_percent2]\n",
    "coc2\n",
    "#coc2.dtypes"
   ]
  },
  {
   "cell_type": "code",
   "execution_count": null,
   "metadata": {},
   "outputs": [],
   "source": [
    "coc2.style.hide(axis='index').format({'percent': '{:.2f}','percent1': '{:.2f}','percent2': '{:.2f}'})"
   ]
  },
  {
   "cell_type": "code",
   "execution_count": null,
   "metadata": {},
   "outputs": [],
   "source": [
    "coc2.to_excel(r'D:\\selenium\\coc_dental_exam.xlsx', header=True,index=False)"
   ]
  }
 ],
 "metadata": {
  "kernelspec": {
   "display_name": "Python 3",
   "language": "python",
   "name": "python3"
  },
  "language_info": {
   "codemirror_mode": {
    "name": "ipython",
    "version": 3
   },
   "file_extension": ".py",
   "mimetype": "text/x-python",
   "name": "python",
   "nbconvert_exporter": "python",
   "pygments_lexer": "ipython3",
   "version": "3.8.5"
  }
 },
 "nbformat": 4,
 "nbformat_minor": 4
}
